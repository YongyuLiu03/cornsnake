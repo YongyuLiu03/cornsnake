{
 "cells": [
  {
   "cell_type": "code",
   "execution_count": 1,
   "metadata": {},
   "outputs": [],
   "source": [
    "from bs4 import BeautifulSoup"
   ]
  },
  {
   "cell_type": "code",
   "execution_count": 3,
   "metadata": {},
   "outputs": [],
   "source": [
    "html = \"<table><thead><tr><th>Morph</th><th>Type</th></tr></thead><tbody><tr><td>Lavender</td><td>Single Recessive</td></tr><tr><td>Microscale</td><td>Single Recessive</td></tr><tr><td>Motley</td><td>Single Recessive</td></tr><tr><td>Red Coat</td><td>Single Recessive</td></tr><tr><td>Scaleless</td><td>Single Recessive</td></tr><tr><td>Strawberry</td><td>Single Recessive</td></tr><tr><td>Stripe</td><td>Single Recessive</td></tr><tr><td>Sunkissed</td><td>Single Recessive</td></tr><tr><td>Sunrise</td><td>Single Recessive</td></tr><tr><td>Terrazzo</td><td>Single Recessive</td></tr><tr><td>Ultra</td><td>Single Recessive</td></tr><tr><td>Het Palmetto</td><td>Single Incomplete Dominant</td></tr><tr><td>Palmetto</td><td>Single Incomplete Dominant</td></tr><tr><td>Buf</td><td>Single Incomplete Dominant</td></tr><tr><td>Masque</td><td>Single Incomplete Dominant</td></tr><tr><td>Tessera</td><td>Single Incomplete Dominant</td></tr><tr><td>Caramel</td><td>Single Incomplete Dominant</td></tr></tbody></table>\""
   ]
  },
  {
   "cell_type": "code",
   "execution_count": 9,
   "metadata": {},
   "outputs": [],
   "source": [
    "html += \"<table><thead><tr><th>Morph</th><th>Type</th></tr></thead><tbody><tr><td>Alabama</td><td>Wild-type</td></tr><tr><td>Keys</td><td>Wild-type</td></tr><tr><td>Miami</td><td>Wild-type</td></tr><tr><td>Normal</td><td>Wild-type</td></tr><tr><td>Okeetee</td><td>Wild-type</td></tr><tr><td>Amelanistic</td><td>Single Recessive</td></tr><tr><td>Anerythristic</td><td>Single Recessive</td></tr><tr><td>Caramel</td><td>Single Recessive</td></tr><tr><td>Charcoal</td><td>Single Recessive</td></tr><tr><td>Christmas</td><td>Single Recessive</td></tr><tr><td>Cinder</td><td>Single Recessive</td></tr><tr><td>Diffused</td><td>Single Recessive</td></tr><tr><td>Dilute</td><td>Single Recessive</td></tr><tr><td>Hypomelanistic</td><td>Single Recessive</td></tr><tr><td>Kastanie</td><td>Single Recessive</td></tr><tr><td>Lava</td><td>Single Recessive</td></tr></tbody></table>\""
   ]
  },
  {
   "cell_type": "code",
   "execution_count": 30,
   "metadata": {},
   "outputs": [],
   "source": [
    "doc = BeautifulSoup(html).select(\"tbody\")\n",
    "trait = [a for i in doc for a in i.select(\"tr\")]"
   ]
  },
  {
   "cell_type": "code",
   "execution_count": 31,
   "metadata": {},
   "outputs": [
    {
     "data": {
      "text/plain": [
       "[<tr><td>Lavender</td><td>Single Recessive</td></tr>,\n",
       " <tr><td>Microscale</td><td>Single Recessive</td></tr>,\n",
       " <tr><td>Motley</td><td>Single Recessive</td></tr>,\n",
       " <tr><td>Red Coat</td><td>Single Recessive</td></tr>,\n",
       " <tr><td>Scaleless</td><td>Single Recessive</td></tr>,\n",
       " <tr><td>Strawberry</td><td>Single Recessive</td></tr>,\n",
       " <tr><td>Stripe</td><td>Single Recessive</td></tr>,\n",
       " <tr><td>Sunkissed</td><td>Single Recessive</td></tr>,\n",
       " <tr><td>Sunrise</td><td>Single Recessive</td></tr>,\n",
       " <tr><td>Terrazzo</td><td>Single Recessive</td></tr>,\n",
       " <tr><td>Ultra</td><td>Single Recessive</td></tr>,\n",
       " <tr><td>Het Palmetto</td><td>Single Incomplete Dominant</td></tr>,\n",
       " <tr><td>Palmetto</td><td>Single Incomplete Dominant</td></tr>,\n",
       " <tr><td>Buf</td><td>Single Incomplete Dominant</td></tr>,\n",
       " <tr><td>Masque</td><td>Single Incomplete Dominant</td></tr>,\n",
       " <tr><td>Tessera</td><td>Single Incomplete Dominant</td></tr>,\n",
       " <tr><td>Caramel</td><td>Single Incomplete Dominant</td></tr>,\n",
       " <tr><td>Alabama</td><td>Wild-type</td></tr>,\n",
       " <tr><td>Keys</td><td>Wild-type</td></tr>,\n",
       " <tr><td>Miami</td><td>Wild-type</td></tr>,\n",
       " <tr><td>Normal</td><td>Wild-type</td></tr>,\n",
       " <tr><td>Okeetee</td><td>Wild-type</td></tr>,\n",
       " <tr><td>Amelanistic</td><td>Single Recessive</td></tr>,\n",
       " <tr><td>Anerythristic</td><td>Single Recessive</td></tr>,\n",
       " <tr><td>Caramel</td><td>Single Recessive</td></tr>,\n",
       " <tr><td>Charcoal</td><td>Single Recessive</td></tr>,\n",
       " <tr><td>Christmas</td><td>Single Recessive</td></tr>,\n",
       " <tr><td>Cinder</td><td>Single Recessive</td></tr>,\n",
       " <tr><td>Diffused</td><td>Single Recessive</td></tr>,\n",
       " <tr><td>Dilute</td><td>Single Recessive</td></tr>,\n",
       " <tr><td>Hypomelanistic</td><td>Single Recessive</td></tr>,\n",
       " <tr><td>Kastanie</td><td>Single Recessive</td></tr>,\n",
       " <tr><td>Lava</td><td>Single Recessive</td></tr>]"
      ]
     },
     "execution_count": 31,
     "metadata": {},
     "output_type": "execute_result"
    }
   ],
   "source": [
    "trait"
   ]
  },
  {
   "cell_type": "code",
   "execution_count": 38,
   "metadata": {},
   "outputs": [],
   "source": [
    "dic = {\n",
    "  \"wildtype\": [],\n",
    "  \"recessive\": [],\n",
    "  \"dominant\":[]\n",
    "}"
   ]
  },
  {
   "cell_type": "code",
   "execution_count": 39,
   "metadata": {},
   "outputs": [],
   "source": [
    "for i in trait:\n",
    "    name, t = i.select(\"td\")\n",
    "    if t.text == \"Single Recessive\":\n",
    "        dic[\"recessive\"].append(name.text)\n",
    "    elif t.text == \"Wild-type\":\n",
    "        dic[\"wildtype\"].append(name.text)\n",
    "    else:\n",
    "        dic[\"dominant\"].append(name.text)\n",
    "    "
   ]
  },
  {
   "cell_type": "code",
   "execution_count": 41,
   "metadata": {},
   "outputs": [
    {
     "name": "stdout",
     "output_type": "stream",
     "text": [
      "{'wildtype': ['Alabama', 'Keys', 'Miami', 'Normal', 'Okeetee'], 'recessive': ['Lavender', 'Microscale', 'Motley', 'Red Coat', 'Scaleless', 'Strawberry', 'Stripe', 'Sunkissed', 'Sunrise', 'Terrazzo', 'Ultra', 'Amelanistic', 'Anerythristic', 'Caramel', 'Charcoal', 'Christmas', 'Cinder', 'Diffused', 'Dilute', 'Hypomelanistic', 'Kastanie', 'Lava'], 'dominant': ['Het Palmetto', 'Palmetto', 'Buf', 'Masque', 'Tessera', 'Caramel']}\n"
     ]
    }
   ],
   "source": [
    "print(dic)"
   ]
  },
  {
   "cell_type": "code",
   "execution_count": null,
   "metadata": {},
   "outputs": [],
   "source": []
  }
 ],
 "metadata": {
  "kernelspec": {
   "display_name": "Python 3",
   "language": "python",
   "name": "python3"
  },
  "language_info": {
   "codemirror_mode": {
    "name": "ipython",
    "version": 3
   },
   "file_extension": ".py",
   "mimetype": "text/x-python",
   "name": "python",
   "nbconvert_exporter": "python",
   "pygments_lexer": "ipython3",
   "version": "3.8.5"
  }
 },
 "nbformat": 4,
 "nbformat_minor": 4
}
