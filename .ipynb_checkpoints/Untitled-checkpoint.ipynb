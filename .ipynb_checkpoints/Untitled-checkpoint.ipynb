{
 "cells": [
  {
   "cell_type": "code",
   "execution_count": 1,
   "metadata": {},
   "outputs": [],
   "source": [
    "from bs4 import BeautifulSoup"
   ]
  },
  {
   "cell_type": "code",
   "execution_count": 3,
   "metadata": {},
   "outputs": [],
   "source": [
    "html = \"<table><thead><tr><th>Morph</th><th>Type</th></tr></thead><tbody><tr><td>Lavender</td><td>Single Recessive</td></tr><tr><td>Microscale</td><td>Single Recessive</td></tr><tr><td>Motley</td><td>Single Recessive</td></tr><tr><td>Red Coat</td><td>Single Recessive</td></tr><tr><td>Scaleless</td><td>Single Recessive</td></tr><tr><td>Strawberry</td><td>Single Recessive</td></tr><tr><td>Stripe</td><td>Single Recessive</td></tr><tr><td>Sunkissed</td><td>Single Recessive</td></tr><tr><td>Sunrise</td><td>Single Recessive</td></tr><tr><td>Terrazzo</td><td>Single Recessive</td></tr><tr><td>Ultra</td><td>Single Recessive</td></tr><tr><td>Het Palmetto</td><td>Single Incomplete Dominant</td></tr><tr><td>Palmetto</td><td>Single Incomplete Dominant</td></tr><tr><td>Buf</td><td>Single Incomplete Dominant</td></tr><tr><td>Masque</td><td>Single Incomplete Dominant</td></tr><tr><td>Tessera</td><td>Single Incomplete Dominant</td></tr><tr><td>Caramel</td><td>Single Incomplete Dominant</td></tr></tbody></table>\""
   ]
  },
  {
   "cell_type": "code",
   "execution_count": 9,
   "metadata": {},
   "outputs": [],
   "source": [
    "html += \"<table><thead><tr><th>Morph</th><th>Type</th></tr></thead><tbody><tr><td>Alabama</td><td>Wild-type</td></tr><tr><td>Keys</td><td>Wild-type</td></tr><tr><td>Miami</td><td>Wild-type</td></tr><tr><td>Normal</td><td>Wild-type</td></tr><tr><td>Okeetee</td><td>Wild-type</td></tr><tr><td>Amelanistic</td><td>Single Recessive</td></tr><tr><td>Anerythristic</td><td>Single Recessive</td></tr><tr><td>Caramel</td><td>Single Recessive</td></tr><tr><td>Charcoal</td><td>Single Recessive</td></tr><tr><td>Christmas</td><td>Single Recessive</td></tr><tr><td>Cinder</td><td>Single Recessive</td></tr><tr><td>Diffused</td><td>Single Recessive</td></tr><tr><td>Dilute</td><td>Single Recessive</td></tr><tr><td>Hypomelanistic</td><td>Single Recessive</td></tr><tr><td>Kastanie</td><td>Single Recessive</td></tr><tr><td>Lava</td><td>Single Recessive</td></tr></tbody></table>\""
   ]
  },
  {
   "cell_type": "code",
   "execution_count": 10,
   "metadata": {},
   "outputs": [],
   "source": [
    "doc = BeautifulSoup(html)"
   ]
  },
  {
   "cell_type": "code",
   "execution_count": 12,
   "metadata": {},
   "outputs": [],
   "source": [
    "trait = doc.select(\"tr\")"
   ]
  },
  {
   "cell_type": "code",
   "execution_count": 15,
   "metadata": {},
   "outputs": [
    {
     "data": {
      "text/plain": [
       "[<tr><th>Morph</th><th>Type</th></tr>,\n",
       " <tr><td>Lavender</td><td>Single Recessive</td></tr>,\n",
       " <tr><td>Microscale</td><td>Single Recessive</td></tr>,\n",
       " <tr><td>Motley</td><td>Single Recessive</td></tr>,\n",
       " <tr><td>Red Coat</td><td>Single Recessive</td></tr>,\n",
       " <tr><td>Scaleless</td><td>Single Recessive</td></tr>,\n",
       " <tr><td>Strawberry</td><td>Single Recessive</td></tr>,\n",
       " <tr><td>Stripe</td><td>Single Recessive</td></tr>,\n",
       " <tr><td>Sunkissed</td><td>Single Recessive</td></tr>,\n",
       " <tr><td>Sunrise</td><td>Single Recessive</td></tr>,\n",
       " <tr><td>Terrazzo</td><td>Single Recessive</td></tr>,\n",
       " <tr><td>Ultra</td><td>Single Recessive</td></tr>,\n",
       " <tr><td>Het Palmetto</td><td>Single Incomplete Dominant</td></tr>,\n",
       " <tr><td>Palmetto</td><td>Single Incomplete Dominant</td></tr>,\n",
       " <tr><td>Buf</td><td>Single Incomplete Dominant</td></tr>,\n",
       " <tr><td>Masque</td><td>Single Incomplete Dominant</td></tr>,\n",
       " <tr><td>Tessera</td><td>Single Incomplete Dominant</td></tr>,\n",
       " <tr><td>Caramel</td><td>Single Incomplete Dominant</td></tr>,\n",
       " <tr><th>Morph</th><th>Type</th></tr>,\n",
       " <tr><td>Alabama</td><td>Wild-type</td></tr>,\n",
       " <tr><td>Keys</td><td>Wild-type</td></tr>,\n",
       " <tr><td>Miami</td><td>Wild-type</td></tr>,\n",
       " <tr><td>Normal</td><td>Wild-type</td></tr>,\n",
       " <tr><td>Okeetee</td><td>Wild-type</td></tr>,\n",
       " <tr><td>Amelanistic</td><td>Single Recessive</td></tr>,\n",
       " <tr><td>Anerythristic</td><td>Single Recessive</td></tr>,\n",
       " <tr><td>Caramel</td><td>Single Recessive</td></tr>,\n",
       " <tr><td>Charcoal</td><td>Single Recessive</td></tr>,\n",
       " <tr><td>Christmas</td><td>Single Recessive</td></tr>,\n",
       " <tr><td>Cinder</td><td>Single Recessive</td></tr>,\n",
       " <tr><td>Diffused</td><td>Single Recessive</td></tr>,\n",
       " <tr><td>Dilute</td><td>Single Recessive</td></tr>,\n",
       " <tr><td>Hypomelanistic</td><td>Single Recessive</td></tr>,\n",
       " <tr><td>Kastanie</td><td>Single Recessive</td></tr>,\n",
       " <tr><td>Lava</td><td>Single Recessive</td></tr>]"
      ]
     },
     "execution_count": 15,
     "metadata": {},
     "output_type": "execute_result"
    }
   ],
   "source": [
    "trait"
   ]
  },
  {
   "cell_type": "code",
   "execution_count": 14,
   "metadata": {},
   "outputs": [],
   "source": [
    "dic = {\n",
    "  \"wildtype\": [],\n",
    "  \"recessive\": [],\n",
    "  \"dominant\":[]\n",
    "}"
   ]
  },
  {
   "cell_type": "code",
   "execution_count": 16,
   "metadata": {},
   "outputs": [
    {
     "ename": "SyntaxError",
     "evalue": "invalid syntax (<ipython-input-16-89c80b431d78>, line 6)",
     "output_type": "error",
     "traceback": [
      "\u001b[0;36m  File \u001b[0;32m\"<ipython-input-16-89c80b431d78>\"\u001b[0;36m, line \u001b[0;32m6\u001b[0m\n\u001b[0;31m    else if t == \"Wild-type\":\u001b[0m\n\u001b[0m         ^\u001b[0m\n\u001b[0;31mSyntaxError\u001b[0m\u001b[0;31m:\u001b[0m invalid syntax\n"
     ]
    }
   ],
   "source": [
    "for i in trait:\n",
    "    name = i.select(\"td\")[0]\n",
    "    t = i.select(\"td\")[1]\n",
    "    if t == \"Single Recessive\":\n",
    "        dic[\"recessive\"].append(name)\n",
    "    elif t == \"Wild-type\":\n",
    "        dic[\"wildtype\"].append(name)\n",
    "    else:\n",
    "        dic[\"recessive\"].append(name)\n",
    "    "
   ]
  },
  {
   "cell_type": "code",
   "execution_count": null,
   "metadata": {},
   "outputs": [],
   "source": []
  }
 ],
 "metadata": {
  "kernelspec": {
   "display_name": "Python 3",
   "language": "python",
   "name": "python3"
  },
  "language_info": {
   "codemirror_mode": {
    "name": "ipython",
    "version": 3
   },
   "file_extension": ".py",
   "mimetype": "text/x-python",
   "name": "python",
   "nbconvert_exporter": "python",
   "pygments_lexer": "ipython3",
   "version": "3.8.5"
  }
 },
 "nbformat": 4,
 "nbformat_minor": 4
}
